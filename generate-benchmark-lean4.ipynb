{
 "cells": [
  {
   "cell_type": "markdown",
   "id": "7a42dda6",
   "metadata": {},
   "source": [
    "Constructing LeanDojo Benchmark (Lean 4)\n",
    "===================================\n",
    "\n",
    "This script uses [LeanDojo](https://leandojo.org/) to construct LeanDojo Benchmark 4 in the appendix of our paper:\n",
    "\n",
    "[LeanDojo: Theorem Proving with Retrieval-Augmented Language Models](https://leandojo.org/)      \n",
    "NeurIPS 2023 (Datasets and Benchmarks Track)    \n",
    "[Kaiyu Yang](https://yangky11.github.io/), [Aidan Swope](https://aidanswope.com/about), [Alex Gu](https://minimario.github.io/), [Rahul Chalamala](https://rchalamala.github.io/), [Peiyang Song](https://peiyang-song.github.io/), [Shixing Yu](https://billysx.github.io/), [Saad Godil](https://www.linkedin.com/in/saad-godil-9728353/), [Ryan Prenger](https://www.linkedin.com/in/ryan-prenger-18797ba1/), [Anima Anandkumar](http://tensorlab.cms.caltech.edu/users/anima/)\n",
    "\n",
    "The dataset is constructed from [mathlib4](https://github.com/leanprover-community/mathlib4/tree/29dcec074de168ac2bf835a77ef68bbe069194c5) (`29dcec074de168ac2bf835a77ef68bbe069194c5`) and will be saved to `../leandojo_benchmark_4`. It includes 2000 theorems for validation, 2000 theorems for testing, and the rest for training. Please refer to our paper for details. For most use cases, you shouldn't need to generate the data and can directly use our official LeanDojo Benchmark 4 downloadable [here](https://zenodo.org/doi/10.5281/zenodo.8040109).\n",
    "\n",
    "This script is for Lean 4. We also have a [version for Lean 3](https://github.com/lean-dojo/LeanDojo/blob/main/scripts/generate-benchmark-lean3.ipynb).\n"
   ]
  },
  {
   "cell_type": "code",
   "execution_count": 1,
   "id": "5710e141",
   "metadata": {},
   "outputs": [],
   "source": [
    "import json\n",
    "import shutil\n",
    "import random\n",
    "import networkx as nx\n",
    "from copy import copy\n",
    "from pathlib import Path\n",
    "from loguru import logger\n",
    "from datetime import datetime\n",
    "from collections import defaultdict\n",
    "from typing import Dict, List, Union\n",
    "\n",
    "import lean_dojo\n",
    "from lean_dojo import *\n",
    "from lean_dojo.constants import LEAN4_PACKAGES_DIR\n",
    "\n",
    "random.seed(3407)  # https://arxiv.org/abs/2109.08203\n",
    "\n",
    "if 0:\n",
    "    URL = \"https://github.com/leanprover-community/mathlib4\"\n",
    "    COMMIT = \"29dcec074de168ac2bf835a77ef68bbe069194c5\"\n",
    "    DST_DIR = Path(\"data/leandojo_benchmark_4\")\n",
    "else:\n",
    "    URL = \"https://github.com/ZongjingLi/Soulforge\"\n",
    "    COMMIT = \"8fae6d99dfe7dcc0109ba552dc299bf44973660f\"\n",
    "    DST_DIR = Path(\"data/soulforge\")\n",
    "NUM_VAL = NUM_TEST = 2000"
   ]
  },
  {
   "cell_type": "markdown",
   "id": "ae0b666e",
   "metadata": {},
   "source": [
    "## Splitting the Theorems\n",
    "\n",
    "We will split the theorems into train/val/test using two different strategies."
   ]
  },
  {
   "cell_type": "code",
   "execution_count": 2,
   "id": "a34ccdfb",
   "metadata": {},
   "outputs": [],
   "source": [
    "SPLIT_NAME = str  # train/val/test\n",
    "SPLIT = Dict[SPLIT_NAME, List[TracedTheorem]]\n",
    "SPLIT_STRATEGY = str"
   ]
  },
  {
   "cell_type": "markdown",
   "id": "cf5e099d",
   "metadata": {},
   "source": [
    "### Splitting Randomly\n",
    "\n",
    "The first and the simplest strategy is splitting the theorems randomly, which can be implemented by a random shuffle followed by a sequential split."
   ]
  },
  {
   "cell_type": "code",
   "execution_count": 3,
   "id": "f1beb027",
   "metadata": {},
   "outputs": [],
   "source": [
    "def _split_sequentially(\n",
    "    traced_theorems: List[TracedTheorem],\n",
    ") -> SPLIT:\n",
    "    \"\"\"Split ``traced_theorems`` sequentially into train/val/test.\"\"\"\n",
    "    num_theorems = len(traced_theorems)\n",
    "    num_train = num_theorems - NUM_VAL - NUM_TEST\n",
    "    return {\n",
    "        \"train\": traced_theorems[:num_train],\n",
    "        \"val\": traced_theorems[num_train : num_train + NUM_VAL],\n",
    "        \"test\": traced_theorems[num_train + NUM_VAL :],\n",
    "    }\n",
    "\n",
    "\n",
    "def split_randomly(\n",
    "    traced_theorems: List[TracedTheorem],\n",
    ") -> SPLIT:\n",
    "    \"\"\"Split ``traced_theorems`` randomly into train/val/test.\"\"\"\n",
    "    logger.info(\"Splitting the theorems randomly\")\n",
    "    traced_theorems = copy(traced_theorems)\n",
    "    random.shuffle(traced_theorems)\n",
    "    return _split_sequentially(traced_theorems)"
   ]
  },
  {
   "cell_type": "markdown",
   "id": "bc65fe11",
   "metadata": {},
   "source": [
    "### Splitting by Premise\n",
    "\n",
    "The second strategy is splitting by premise. We want to test the prover's capability in using novel premises, i.e., premises that have never been used in training. Please see the implementation below. Note that validation and testing theorems may share premises. So the **testing performance should be reported using models trained on the training set only, NOT training plus validation.**"
   ]
  },
  {
   "cell_type": "code",
   "execution_count": 4,
   "id": "e150f547",
   "metadata": {},
   "outputs": [],
   "source": [
    "def split_by_premise(\n",
    "    traced_theorems: List[TracedTheorem],\n",
    ") -> SPLIT:\n",
    "    \"\"\"\n",
    "    Split theorems into train/val/test so that proofs in val/test rely on at\n",
    "    least one novel premise that does not appear in train.\n",
    "    \"\"\"\n",
    "    logger.info(\"Splitting the theorems by premises\")\n",
    "\n",
    "    # Figure out the number of theorems in train/val/test.\n",
    "    num_theorems = len(traced_theorems)\n",
    "    num_val_test = NUM_VAL + NUM_TEST\n",
    "    num_train = num_theorems - num_val_test\n",
    "    theorems_val_test = set()\n",
    "\n",
    "    # Map each premise to a list of theorems using it.\n",
    "    theorems_by_premises = defaultdict(list)\n",
    "    for t in traced_theorems:\n",
    "        for p in t.get_premise_full_names():\n",
    "            theorems_by_premises[p].append(t)\n",
    "\n",
    "    # Sort the premises by the number of theorems using them (in ascending order).\n",
    "    theorems_by_premises = sorted(theorems_by_premises.items(), key=lambda x: len(x[1]))\n",
    "\n",
    "    # For each premise, put all theorems using it into val_test so that it does not appear in train.\n",
    "    for _, thms in theorems_by_premises:\n",
    "        if len(theorems_val_test) < num_val_test:\n",
    "            theorems_val_test.update(thms)\n",
    "\n",
    "    # All other theorems go to train.\n",
    "    theorems_train = [t for t in traced_theorems if t not in theorems_val_test]\n",
    "    theorems_val_test = list(theorems_val_test)\n",
    "    random.shuffle(theorems_val_test)\n",
    "\n",
    "    return {\n",
    "        \"train\": theorems_train,\n",
    "        \"val\": theorems_val_test[:NUM_VAL],\n",
    "        \"test\": theorems_val_test[NUM_VAL:],\n",
    "    }"
   ]
  },
  {
   "cell_type": "markdown",
   "id": "c0cbecd6",
   "metadata": {},
   "source": [
    "Given a traced repo, we can split the theorems using these strategies."
   ]
  },
  {
   "cell_type": "code",
   "execution_count": 5,
   "id": "03882cc5",
   "metadata": {},
   "outputs": [],
   "source": [
    "def split_data(traced_repo: TracedRepo) -> Dict[SPLIT_STRATEGY, SPLIT]:\n",
    "    # Skip theorems in the Lean 4 repo itself.\n",
    "    traced_theorems = [\n",
    "        thm for thm in traced_repo.get_traced_theorems() if not thm.repo.is_lean4\n",
    "    ]\n",
    "    logger.info(f\"{len(traced_theorems)} theorems in total\")\n",
    "\n",
    "    return {\n",
    "        \"random\": split_randomly(traced_theorems),\n",
    "        \"novel_premises\": split_by_premise(traced_theorems),\n",
    "    }"
   ]
  },
  {
   "cell_type": "markdown",
   "id": "d2b5b015",
   "metadata": {},
   "source": [
    "## Exporting the Data\n",
    "Once theorems are splitted into train/val/test. We export them to JSON formats that can be easily used in machine learning."
   ]
  },
  {
   "cell_type": "code",
   "execution_count": 6,
   "id": "06e6fe8d",
   "metadata": {},
   "outputs": [],
   "source": [
    "def _get_file_path(traced_repo: TracedRepo, thm: TracedTheorem) -> str:\n",
    "    if thm.repo == traced_repo.repo:\n",
    "        # The theorem belongs to the traced repo itself.\n",
    "        return str(thm.theorem.file_path)\n",
    "    else:\n",
    "        # The theorem belongs to one of the dependencies.\n",
    "        for name, dep in traced_repo.dependencies.items():\n",
    "            if dep == thm.repo:\n",
    "                return f\"{LEAN4_PACKAGES_DIR}/{name}/{thm.theorem.file_path}\"\n",
    "        raise ValueError(f\"Unable to find the dependency {thm.repo}\")\n",
    "\n",
    "\n",
    "def export_proofs(\n",
    "    splits: Dict[SPLIT_STRATEGY, SPLIT], dst_path: Path, traced_repo: TracedRepo\n",
    ") -> None:\n",
    "    \"\"\"Export all proofs in a traced repo to ``dst_path''.\"\"\"\n",
    "    for strategy, split in splits.items():\n",
    "        split_dir = dst_path / strategy\n",
    "        split_dir.mkdir(parents=True)\n",
    "\n",
    "        for name, theorems in split.items():\n",
    "            data = []\n",
    "            num_tactics = 0\n",
    "\n",
    "            for thm in theorems:\n",
    "                tactics = [\n",
    "                    {\n",
    "                        \"tactic\": t.tactic,\n",
    "                        \"annotated_tactic\": t.get_annotated_tactic(),\n",
    "                        \"state_before\": t.state_before,\n",
    "                        \"state_after\": t.state_after,\n",
    "                    }\n",
    "                    for t in thm.get_traced_tactics()\n",
    "                    if t.state_before != \"no goals\"\n",
    "                    and \"·\" not in t.tactic  # Ignore \"·\".\n",
    "                ]\n",
    "                num_tactics += len(tactics)\n",
    "                data.append(\n",
    "                    {\n",
    "                        \"url\": traced_repo.repo.url,\n",
    "                        \"commit\": traced_repo.repo.commit,\n",
    "                        \"file_path\": _get_file_path(traced_repo, thm),\n",
    "                        \"full_name\": thm.theorem.full_name,\n",
    "                        \"start\": list(thm.start),\n",
    "                        \"end\": list(thm.end),\n",
    "                        \"traced_tactics\": tactics,\n",
    "                    }\n",
    "                )\n",
    "            oup_path = split_dir / f\"{name}.json\"\n",
    "            json.dump(data, oup_path.open(\"wt\"))\n",
    "            logger.info(\n",
    "                f\"{len(theorems)} theorems and {num_tactics} tactics saved to {oup_path}\"\n",
    "            )\n",
    "\n",
    "\n",
    "def export_premises(traced_repo: TracedRepo, dst_path: Path) -> None:\n",
    "    \"\"\"Export all premise definitions in a traced repo to ``dst_path``.\"\"\"\n",
    "    oup_path = dst_path / \"corpus.jsonl\"\n",
    "    num_premises = 0\n",
    "\n",
    "    with oup_path.open(\"wt\") as oup:\n",
    "        G = traced_repo.traced_files_graph\n",
    "\n",
    "        for tf_node in reversed(list(nx.topological_sort(G))):\n",
    "            tf = G.nodes[tf_node][\"traced_file\"]\n",
    "            imports = [str(_) for _ in G.successors(tf_node)]\n",
    "            premises = tf.get_premise_definitions()\n",
    "            num_premises += len(premises)\n",
    "            oup.write(\n",
    "                json.dumps(\n",
    "                    {\"path\": str(tf.path), \"imports\": imports, \"premises\": premises}\n",
    "                )\n",
    "                + \"\\n\"\n",
    "            )\n",
    "    logger.info(\n",
    "        f\"{num_premises} theorems/definitions from {len(traced_repo.traced_files)} files saved to {oup_path}\"\n",
    "    )\n",
    "\n",
    "\n",
    "def export_licenses(traced_repo: TracedRepo, dst_path: Path) -> None:\n",
    "    \"\"\"Export the licenses of a traced repo and all its dependencies to ``dst_path``.\"\"\"\n",
    "    license_dir = dst_path / \"licenses\"\n",
    "    license_dir.mkdir()\n",
    "    all_repos = [traced_repo.repo] + list(traced_repo.dependencies.values())\n",
    "\n",
    "    for repo in all_repos:\n",
    "        lic = repo.get_license()\n",
    "        if lic is None:\n",
    "            continue\n",
    "        with (license_dir / repo.name).open(\"wt\") as oup:\n",
    "            oup.write(lic)\n",
    "\n",
    "    with (license_dir / \"README.md\").open(\"wt\") as oup:\n",
    "        oup.write(\n",
    "            \"This directory contains licenses of Lean repos used to generate this dataset. The dataset itself is released under [CC BY 2.0](https://creativecommons.org/licenses/by/2.0/).\"\n",
    "        )\n",
    "\n",
    "\n",
    "def export_metadata(traced_repo: TracedRepo, dst_path: Path, **kwargs) -> None:\n",
    "    \"\"\"Export the metadata of a traced repo to ``dst_path''.\"\"\"\n",
    "    metadata = dict(kwargs)\n",
    "    metadata[\"creation_time\"] = str(datetime.now())\n",
    "    metadata[\"from_repo\"] = {\n",
    "        \"url\": traced_repo.repo.url,\n",
    "        \"commit\": traced_repo.repo.commit,\n",
    "    }\n",
    "    metadata[\"leandojo_version\"] = lean_dojo.__version__\n",
    "    json.dump(metadata, (dst_path / \"metadata.json\").open(\"wt\"))\n",
    "\n",
    "\n",
    "def export_data(\n",
    "    traced_repo: TracedRepo,\n",
    "    splits: Dict[SPLIT_STRATEGY, SPLIT],\n",
    "    dst_path: Union[str, Path],\n",
    "    **kwargs,\n",
    ") -> None:\n",
    "    \"\"\"Export a traced repo whose theorems have been splitted to ``dst_path``.\"\"\"\n",
    "    if isinstance(dst_path, str):\n",
    "        dst_path = Path(dst_path)\n",
    "    if dst_path.exists():\n",
    "        logger.warning(f\"{dst_path} already exists. Removing it now.\")\n",
    "        shutil.rmtree(dst_path)\n",
    "\n",
    "    # Export the proofs.\n",
    "    export_proofs(splits, dst_path, traced_repo)\n",
    "\n",
    "    # Export the premises (theorems, definitions, etc.).\n",
    "    export_premises(traced_repo, dst_path)\n",
    "\n",
    "    # Export the licenses.\n",
    "    export_licenses(traced_repo, dst_path)\n",
    "\n",
    "    # Export metadata.\n",
    "    export_metadata(traced_repo, dst_path, **kwargs)"
   ]
  },
  {
   "cell_type": "code",
   "execution_count": 7,
   "id": "bc50220e",
   "metadata": {
    "scrolled": true
   },
   "outputs": [
    {
     "name": "stderr",
     "output_type": "stream",
     "text": [
      "\u001b[32m2025-03-11 11:39:27.795\u001b[0m | \u001b[1mINFO    \u001b[0m | \u001b[36mlean_dojo.data_extraction.trace\u001b[0m:\u001b[36mget_traced_repo_path\u001b[0m:\u001b[36m210\u001b[0m - \u001b[1mTracing LeanGitRepo(url='https://github.com/ZongjingLi/Soulforge', commit='8fae6d99dfe7dcc0109ba552dc299bf44973660f')\u001b[0m\n"
     ]
    },
    {
     "name": "stdout",
     "output_type": "stream",
     "text": [
      "✔ [2/8] Built Soulforge.Basic\n",
      "✔ [3/8] Built Soulforge\n",
      "ℹ [4/8] Built Main\n",
      "info: ././././Main.lean:20:0: \"Finished Building Malkyriss\"\n",
      "✔ [5/8] Built Main:c.o\n",
      "✔ [6/8] Built Soulforge.Basic:c.o\n",
      "✔ [7/8] Built Soulforge:c.o\n",
      "✔ [8/8] Built soulforge\n",
      "Build completed successfully.\n"
     ]
    },
    {
     "name": "stderr",
     "output_type": "stream",
     "text": [
      " 95%|█████████▌| 943/988 [03:50<00:09,  4.69it/s]"
     ]
    },
    {
     "name": "stdout",
     "output_type": "stream",
     "text": [
      "✔ [2/3] Built Lean4Repl\n",
      "Build completed successfully.\n"
     ]
    },
    {
     "name": "stderr",
     "output_type": "stream",
     "text": [
      "2025-03-11 11:43:44,181\tINFO worker.py:1832 -- Started a local Ray instance. View the dashboard at \u001b[1m\u001b[32m127.0.0.1:8265 \u001b[39m\u001b[22m\n",
      "100%|██████████| 988/988 [00:25<00:00, 38.03it/s] \n",
      "2025-03-11 11:44:15,583\tINFO worker.py:1832 -- Started a local Ray instance. View the dashboard at \u001b[1m\u001b[32m127.0.0.1:8265 \u001b[39m\u001b[22m\n",
      "100%|██████████| 988/988 [00:06<00:00, 153.53it/s]\n",
      "\u001b[32m2025-03-11 11:44:32.937\u001b[0m | \u001b[1mINFO    \u001b[0m | \u001b[36mlean_dojo.data_extraction.trace\u001b[0m:\u001b[36mtrace\u001b[0m:\u001b[36m248\u001b[0m - \u001b[1mLoading the traced repo from /Users/sunyiqi/.cache/lean_dojo/ZongjingLi-Soulforge-8fae6d99dfe7dcc0109ba552dc299bf44973660f/Soulforge\u001b[0m\n",
      "2025-03-11 11:44:33,837\tINFO worker.py:1832 -- Started a local Ray instance. View the dashboard at \u001b[1m\u001b[32m127.0.0.1:8265 \u001b[39m\u001b[22m\n",
      "100%|██████████| 988/988 [00:39<00:00, 25.16it/s] \n",
      "\u001b[32m2025-03-11 11:45:17.839\u001b[0m | \u001b[1mINFO    \u001b[0m | \u001b[36m__main__\u001b[0m:\u001b[36msplit_data\u001b[0m:\u001b[36m6\u001b[0m - \u001b[1m4 theorems in total\u001b[0m\n",
      "\u001b[32m2025-03-11 11:45:17.839\u001b[0m | \u001b[1mINFO    \u001b[0m | \u001b[36m__main__\u001b[0m:\u001b[36msplit_randomly\u001b[0m:\u001b[36m18\u001b[0m - \u001b[1mSplitting the theorems randomly\u001b[0m\n",
      "\u001b[32m2025-03-11 11:45:17.840\u001b[0m | \u001b[1mINFO    \u001b[0m | \u001b[36m__main__\u001b[0m:\u001b[36msplit_by_premise\u001b[0m:\u001b[36m8\u001b[0m - \u001b[1mSplitting the theorems by premises\u001b[0m\n",
      "\u001b[32m2025-03-11 11:45:17.841\u001b[0m | \u001b[1mINFO    \u001b[0m | \u001b[36m__main__\u001b[0m:\u001b[36mexport_proofs\u001b[0m:\u001b[36m51\u001b[0m - \u001b[1m0 theorems and 0 tactics saved to data/soulforge/random/train.json\u001b[0m\n",
      "\u001b[32m2025-03-11 11:45:17.842\u001b[0m | \u001b[1mINFO    \u001b[0m | \u001b[36m__main__\u001b[0m:\u001b[36mexport_proofs\u001b[0m:\u001b[36m51\u001b[0m - \u001b[1m0 theorems and 0 tactics saved to data/soulforge/random/val.json\u001b[0m\n",
      "\u001b[32m2025-03-11 11:45:17.843\u001b[0m | \u001b[1mINFO    \u001b[0m | \u001b[36m__main__\u001b[0m:\u001b[36mexport_proofs\u001b[0m:\u001b[36m51\u001b[0m - \u001b[1m4 theorems and 3 tactics saved to data/soulforge/random/test.json\u001b[0m\n",
      "\u001b[32m2025-03-11 11:45:17.843\u001b[0m | \u001b[1mINFO    \u001b[0m | \u001b[36m__main__\u001b[0m:\u001b[36mexport_proofs\u001b[0m:\u001b[36m51\u001b[0m - \u001b[1m0 theorems and 0 tactics saved to data/soulforge/novel_premises/train.json\u001b[0m\n",
      "\u001b[32m2025-03-11 11:45:17.844\u001b[0m | \u001b[1mINFO    \u001b[0m | \u001b[36m__main__\u001b[0m:\u001b[36mexport_proofs\u001b[0m:\u001b[36m51\u001b[0m - \u001b[1m4 theorems and 3 tactics saved to data/soulforge/novel_premises/val.json\u001b[0m\n",
      "\u001b[32m2025-03-11 11:45:17.844\u001b[0m | \u001b[1mINFO    \u001b[0m | \u001b[36m__main__\u001b[0m:\u001b[36mexport_proofs\u001b[0m:\u001b[36m51\u001b[0m - \u001b[1m0 theorems and 0 tactics saved to data/soulforge/novel_premises/test.json\u001b[0m\n",
      "\u001b[32m2025-03-11 11:45:19.372\u001b[0m | \u001b[1mINFO    \u001b[0m | \u001b[36m__main__\u001b[0m:\u001b[36mexport_premises\u001b[0m:\u001b[36m75\u001b[0m - \u001b[1m22032 theorems/definitions from 988 files saved to data/soulforge/corpus.jsonl\u001b[0m\n"
     ]
    }
   ],
   "source": [
    "repo = LeanGitRepo(URL, COMMIT)\n",
    "traced_repo = trace(repo)\n",
    "splits = split_data(traced_repo)\n",
    "export_data(traced_repo, splits, DST_DIR, dataset_name=\"LeanDojo Benchmark 4\")"
   ]
  },
  {
   "cell_type": "markdown",
   "id": "29e7f389",
   "metadata": {},
   "source": [
    "## Data Format\n",
    "\n",
    "This is the resulting data directory:\n",
    "\n",
    "```\n",
    "├─corpus.jsonl\n",
    "├─metadata.json\n",
    "├─licenses\n",
    "│ ├─lean4\n",
    "│ ├─mathlib4\n",
    "│ ├─doc-gen4\n",
    "│ ├─aesop\n",
    "│ ├─ProofWidgets4\n",
    "│ ├─std4\n",
    "│ └─README.md\n",
    "├─random\n",
    "│ ├─train.json\n",
    "│ ├─val.json\n",
    "│ └─test.json\n",
    "└─novel_premises\n",
    "  ├─train.json\n",
    "  ├─val.json\n",
    "  └─test.json\n",
    "```\n",
    "\n",
    "`corpus.jsonl` is a corpus of all theorems and definitions in mathlib4 that can potentially be used as premises. Sub-directories `random` and `novel_premise` are different strategies for splitting the theorems. For each strategy, we have `*.json` files for train/val/test. The sub-directory `licenses` contains license information.\n",
    "\n",
    "### Corpus of Potential Premises\n",
    "\n",
    "`corpus.jsonl` is in [JSON Lines format](https://jsonlines.org/); a line includes the potential premises defined in a single `*.lean` file."
   ]
  },
  {
   "cell_type": "code",
   "execution_count": 8,
   "id": "7427982d",
   "metadata": {},
   "outputs": [
    {
     "name": "stdout",
     "output_type": "stream",
     "text": [
      "cat: ../leandojo_benchmark_/corpus.jsonl: No such file or directory\n",
      "       0\n"
     ]
    }
   ],
   "source": [
    "!cat ../leandojo_benchmark_/corpus.jsonl | wc -l"
   ]
  },
  {
   "cell_type": "markdown",
   "id": "9cd110de",
   "metadata": {},
   "source": [
    "Let's look at one of them."
   ]
  },
  {
   "cell_type": "code",
   "execution_count": 10,
   "id": "cbca21c9",
   "metadata": {},
   "outputs": [
    {
     "name": "stdout",
     "output_type": "stream",
     "text": [
      "988\n"
     ]
    },
    {
     "data": {
      "text/plain": [
       "dict_keys(['path', 'imports', 'premises'])"
      ]
     },
     "execution_count": 10,
     "metadata": {},
     "output_type": "execute_result"
    }
   ],
   "source": [
    "corpus_path = DST_DIR / \"corpus.jsonl\"\n",
    "lines = list(corpus_path.open())\n",
    "print(len(lines))\n",
    "file_in_corpus = json.loads(lines[1])\n",
    "file_in_corpus.keys()"
   ]
  },
  {
   "cell_type": "markdown",
   "id": "0173a217",
   "metadata": {},
   "source": [
    "We can check the file's path and other files it imports."
   ]
  },
  {
   "cell_type": "code",
   "execution_count": 11,
   "id": "f5c1920a",
   "metadata": {},
   "outputs": [
    {
     "data": {
      "text/plain": [
       "('.lake/packages/lean4/src/lean/Init/Coe.lean',\n",
       " ['.lake/packages/lean4/src/lean/Init/Prelude.lean'])"
      ]
     },
     "execution_count": 11,
     "metadata": {},
     "output_type": "execute_result"
    }
   ],
   "source": [
    "file_in_corpus[\"path\"], file_in_corpus[\"imports\"]"
   ]
  },
  {
   "cell_type": "code",
   "execution_count": 12,
   "id": "d801a0ae",
   "metadata": {},
   "outputs": [
    {
     "data": {
      "text/plain": [
       "19"
      ]
     },
     "execution_count": 12,
     "metadata": {},
     "output_type": "execute_result"
    }
   ],
   "source": [
    "len(file_in_corpus[\"premises\"])\n"
   ]
  },
  {
   "cell_type": "code",
   "execution_count": 13,
   "id": "3a2921ee",
   "metadata": {},
   "outputs": [
    {
     "name": "stdout",
     "output_type": "stream",
     "text": [
      "Coe\n",
      "CoeTC\n",
      "CoeOut\n",
      "CoeOTC\n",
      "CoeHead\n",
      "CoeHTC\n",
      "CoeTail\n",
      "CoeHTCT\n",
      "CoeDep\n",
      "CoeT\n",
      "CoeFun\n",
      "CoeSort\n",
      "boolToProp\n",
      "boolToSort\n",
      "decPropToBool\n",
      "optionCoe\n",
      "subtypeCoe\n",
      "Lean.Internal.liftCoeM\n",
      "Lean.Internal.coeM\n"
     ]
    }
   ],
   "source": [
    "for premise in file_in_corpus[\"premises\"]:\n",
    "    print(premise[\"full_name\"])\n",
    "    if \"zero_mem\" == premise[\"full_name\"]:\n",
    "        print(premise[\"full_name\"])\n",
    "\n"
   ]
  },
  {
   "cell_type": "markdown",
   "id": "178e1214",
   "metadata": {},
   "source": [
    "We can inspect the first potential premise:"
   ]
  },
  {
   "cell_type": "code",
   "execution_count": 14,
   "id": "b533d342",
   "metadata": {},
   "outputs": [
    {
     "data": {
      "text/plain": [
       "{'full_name': 'Coe',\n",
       " 'code': 'class Coe (α : semiOutParam (Sort u)) (β : Sort v) where\\n  \\n  coe : α → β',\n",
       " 'start': [120, 1],\n",
       " 'end': [129, 14],\n",
       " 'kind': 'commanddeclaration'}"
      ]
     },
     "execution_count": 14,
     "metadata": {},
     "output_type": "execute_result"
    }
   ],
   "source": [
    "file_in_corpus[\"premises\"][0]"
   ]
  },
  {
   "cell_type": "markdown",
   "id": "8b3649f1",
   "metadata": {},
   "source": [
    "Each premise has a fully qualified name, its definition (in the form of Lean code), and the exact location it is defined.\n",
    "\n",
    "\n",
    "### Theorems/Proofs Data\n",
    "\n",
    "Now let's take a look at the theorems/proofs data, taking the `random` split as an example."
   ]
  },
  {
   "cell_type": "code",
   "execution_count": 17,
   "id": "4fb19aa3",
   "metadata": {},
   "outputs": [
    {
     "data": {
      "text/plain": [
       "0"
      ]
     },
     "execution_count": 17,
     "metadata": {},
     "output_type": "execute_result"
    }
   ],
   "source": [
    "train_path = DST_DIR / \"random/train.json\"\n",
    "proofs_train = json.load(train_path.open())\n",
    "len(proofs_train)"
   ]
  },
  {
   "cell_type": "markdown",
   "id": "2ad702de",
   "metadata": {},
   "source": [
    "Each element in `proofs_val` represents a theorem. Let's check one of them."
   ]
  },
  {
   "cell_type": "code",
   "execution_count": 16,
   "id": "3cc47f7e",
   "metadata": {},
   "outputs": [
    {
     "ename": "NameError",
     "evalue": "name 'proof' is not defined",
     "output_type": "error",
     "traceback": [
      "\u001b[0;31m---------------------------------------------------------------------------\u001b[0m",
      "\u001b[0;31mNameError\u001b[0m                                 Traceback (most recent call last)",
      "Cell \u001b[0;32mIn[16], line 4\u001b[0m\n\u001b[1;32m      2\u001b[0m     \u001b[38;5;28;01mif\u001b[39;00m proof[\u001b[38;5;124m\"\u001b[39m\u001b[38;5;124mtraced_tactics\u001b[39m\u001b[38;5;124m\"\u001b[39m] \u001b[38;5;241m!=\u001b[39m []:\n\u001b[1;32m      3\u001b[0m         \u001b[38;5;28;01mbreak\u001b[39;00m\n\u001b[0;32m----> 4\u001b[0m \u001b[43mproof\u001b[49m\u001b[38;5;241m.\u001b[39mkeys()\n",
      "\u001b[0;31mNameError\u001b[0m: name 'proof' is not defined"
     ]
    }
   ],
   "source": [
    "for proof in proofs_train[:]:\n",
    "    if proof[\"traced_tactics\"] != []:\n",
    "        break\n",
    "proof.keys()"
   ]
  },
  {
   "cell_type": "code",
   "execution_count": 18,
   "id": "3c2c36a7",
   "metadata": {},
   "outputs": [
    {
     "ename": "NameError",
     "evalue": "name 'proof' is not defined",
     "output_type": "error",
     "traceback": [
      "\u001b[0;31m---------------------------------------------------------------------------\u001b[0m",
      "\u001b[0;31mNameError\u001b[0m                                 Traceback (most recent call last)",
      "Cell \u001b[0;32mIn[18], line 1\u001b[0m\n\u001b[0;32m----> 1\u001b[0m \u001b[43mproof\u001b[49m[\u001b[38;5;124m\"\u001b[39m\u001b[38;5;124murl\u001b[39m\u001b[38;5;124m\"\u001b[39m], proof[\u001b[38;5;124m\"\u001b[39m\u001b[38;5;124mcommit\u001b[39m\u001b[38;5;124m\"\u001b[39m], proof[\u001b[38;5;124m\"\u001b[39m\u001b[38;5;124mfile_path\u001b[39m\u001b[38;5;124m\"\u001b[39m], proof[\u001b[38;5;124m\"\u001b[39m\u001b[38;5;124mfull_name\u001b[39m\u001b[38;5;124m\"\u001b[39m]\n",
      "\u001b[0;31mNameError\u001b[0m: name 'proof' is not defined"
     ]
    }
   ],
   "source": [
    "proof[\"url\"], proof[\"commit\"], proof[\"file_path\"], proof[\"full_name\"]"
   ]
  },
  {
   "cell_type": "markdown",
   "id": "4969e5ab",
   "metadata": {},
   "source": [
    "We see the theorem's name and where it is defined. The theorem includes some traced tactics."
   ]
  },
  {
   "cell_type": "code",
   "execution_count": null,
   "id": "c29987ff",
   "metadata": {},
   "outputs": [
    {
     "data": {
      "text/plain": [
       "1"
      ]
     },
     "execution_count": 30,
     "metadata": {},
     "output_type": "execute_result"
    }
   ],
   "source": [
    "len(proof[\"traced_tactics\"])"
   ]
  },
  {
   "cell_type": "code",
   "execution_count": null,
   "id": "04aa0c1d",
   "metadata": {},
   "outputs": [
    {
     "name": "stdout",
     "output_type": "stream",
     "text": [
      "118517\n",
      "C : Type u\n",
      "inst✝¹ : Category.{v, u} C\n",
      "X Y Z : Scheme\n",
      "𝒰 : X.OpenCover\n",
      "f : X ⟶ Z\n",
      "g : Y ⟶ Z\n",
      "inst✝ : ∀ (i : 𝒰.J), HasPullback (𝒰.map i ≫ f) g\n",
      "s : PullbackCone f g\n",
      "i : 𝒰.J\n",
      "⊢ (pullbackP1Iso 𝒰 f g i).inv ≫ pullback.fst = (gluing 𝒰 f g).ι i\n"
     ]
    }
   ],
   "source": [
    "import torch\n",
    "import torch.nn as nn\n",
    "from torch.utils.data import Dataset, DataLoader\n",
    "\n",
    "class MathlibDataset(Dataset):\n",
    "    def __init__(self, theorems_file):\n",
    "        super().__init__()\n",
    "        self.proofs = json.load(theorems_file.open())\n",
    "        #for proof in json.load(theorems_file.open()):\n",
    "        #    if proof[\"traced_tactics\"] != []:\n",
    "        #        self.proofs.append(proof)\n",
    "        # TODO: when use the train data, this becomes extremely long process, just.. weird\n",
    "\n",
    "    def __len__(self):return len(self.proofs)\n",
    "\n",
    "    def __getitem__(self, idx):\n",
    "        \"\"\" output a data bind of tactics of a proof\n",
    "        name : the full name of the proof\n",
    "        tactics : a List of Diction each term is a dict\n",
    "        \"\"\"\n",
    "        proof = self.proofs[idx]\n",
    "        tactics = proof[\"traced_tactics\"]\n",
    "        return {\n",
    "            \"proof\" : proof,\n",
    "            \"name\" : proof[\"full_name\"],\n",
    "            \"tactics\" : tactics,\n",
    "            \"init\" : tactics[0][\"state_before\"]\n",
    "        }\n",
    "\n",
    "    def proof_finished(self, tactic_state):\n",
    "        \"\"\"check if a given tactic action leads to end of the proof\"\"\"\n",
    "        return tactic_state[\"state_after\"] == \"no goals\"\n",
    "\n",
    "train_path = DST_DIR / \"random/train.json\"\n",
    "\n",
    "dataset = MathlibDataset(train_path)\n",
    "print(len(dataset))\n",
    "\n",
    "print(dataset[6][\"init\"])"
   ]
  },
  {
   "cell_type": "code",
   "execution_count": null,
   "id": "b30fce14",
   "metadata": {},
   "outputs": [
    {
     "name": "stdout",
     "output_type": "stream",
     "text": [
      "AlgebraicGeometry.Scheme.Pullback.pullbackP1Iso_inv_snd\n",
      "Mathlib/AlgebraicGeometry/Pullbacks.lean\n",
      "C : Type u\n",
      "inst✝¹ : Category.{v, u} C\n",
      "X Y Z : Scheme\n",
      "𝒰 : X.OpenCover\n",
      "f : X ⟶ Z\n",
      "g : Y ⟶ Z\n",
      "inst✝ : ∀ (i : 𝒰.J), HasPullback (𝒰.map i ≫ f) g\n",
      "s : PullbackCone f g\n",
      "i : 𝒰.J\n",
      "⊢ (pullbackP1Iso 𝒰 f g i).inv ≫ pullback.snd = pullback.fst\n",
      "simp_rw [pullbackP1Iso, pullback.lift_snd]\n"
     ]
    }
   ],
   "source": [
    "print(proof[\"full_name\"])\n",
    "print(proof[\"file_path\"])\n",
    "print(proof[\"traced_tactics\"][0][\"state_before\"])\n",
    "for tactics in proof[\"traced_tactics\"]:\n",
    "    print(tactics[\"tactic\"])\n",
    "\n"
   ]
  },
  {
   "cell_type": "code",
   "execution_count": null,
   "id": "43b276ae",
   "metadata": {},
   "outputs": [
    {
     "name": "stdout",
     "output_type": "stream",
     "text": [
      "C : Type u\n",
      "inst✝¹ : Category.{v, u} C\n",
      "X Y Z : Scheme\n",
      "𝒰 : X.OpenCover\n",
      "f : X ⟶ Z\n",
      "g : Y ⟶ Z\n",
      "inst✝ : ∀ (i : 𝒰.J), HasPullback (𝒰.map i ≫ f) g\n",
      "s : PullbackCone f g\n",
      "i j : 𝒰.J\n",
      "⊢ pullbackFstιToV 𝒰 f g i j ≫ pullback.fst = pullback.snd\n",
      "\n",
      "bysimp [pullbackFstιToV, p1]\n",
      "\n",
      "no goals\n",
      "True\n"
     ]
    }
   ],
   "source": [
    "def proof_finished(tactic_state): return tactic_state[\"state_after\"] == \"no goals\"\n",
    "\n",
    "tactics = proof[\"traced_tactics\"][0]\n",
    "\n",
    "[print(line) for line in tactics[\"state_before\"].split(\"\\n\")]\n",
    "print(\"\\nby{}\\n\".format(tactics[\"tactic\"]))\n",
    "print(tactics[\"state_after\"])\n",
    "print(proof_finished(tactics))\n"
   ]
  },
  {
   "cell_type": "markdown",
   "id": "cedebf93",
   "metadata": {},
   "source": [
    "Let's look at a traced tactic."
   ]
  },
  {
   "cell_type": "code",
   "execution_count": null,
   "id": "a734d788",
   "metadata": {},
   "outputs": [
    {
     "data": {
      "text/plain": [
       "{'tactic': 'exact zero_mem _',\n",
       " 'annotated_tactic': ['exact <a>zero_mem</a> _',\n",
       "  [{'full_name': 'ZeroMemClass.zero_mem',\n",
       "    'def_path': 'Mathlib/Algebra/Group/Submonoid/Basic.lean',\n",
       "    'def_pos': [80, 3],\n",
       "    'def_end_pos': [80, 11]}]],\n",
       " 'state_before': 'R : Type u\\nS : Type v\\nA : Type w\\nB : Type u₁\\nM : Type v₁\\ninst✝⁶ : Semiring R\\ninst✝⁵ : Semiring S\\ninst✝⁴ : AddCommMonoid A\\ninst✝³ : Module R S\\ninst✝² : Module S A\\ninst✝¹ : Module R A\\ninst✝ : IsScalarTower R S A\\ns : Set S\\nt : Set A\\nk : S\\nhks : k ∈ span R s\\nx : A\\nhx : x ∈ t\\n⊢ 0 ∈ span R (s • t)',\n",
       " 'state_after': 'no goals'}"
      ]
     },
     "execution_count": 19,
     "metadata": {},
     "output_type": "execute_result"
    }
   ],
   "source": [
    "proof[\"traced_tactics\"][1]"
   ]
  },
  {
   "cell_type": "markdown",
   "id": "b5ba66f6",
   "metadata": {},
   "source": [
    "`annotated_tactic` is the tactic with premises annotated by `<a> ... </a>`. For each premise, we know its fully qualified name and the exact location it is defined, which is invaluable for training machine learning models for premise selection."
   ]
  },
  {
   "cell_type": "code",
   "execution_count": null,
   "id": "95bd641a",
   "metadata": {},
   "outputs": [],
   "source": []
  }
 ],
 "metadata": {
  "kernelspec": {
   "display_name": "soulforge",
   "language": "python",
   "name": "python3"
  },
  "language_info": {
   "codemirror_mode": {
    "name": "ipython",
    "version": 3
   },
   "file_extension": ".py",
   "mimetype": "text/x-python",
   "name": "python",
   "nbconvert_exporter": "python",
   "pygments_lexer": "ipython3",
   "version": "3.9.21"
  }
 },
 "nbformat": 4,
 "nbformat_minor": 5
}
