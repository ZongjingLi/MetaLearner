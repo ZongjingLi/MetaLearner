{
 "cells": [
  {
   "cell_type": "markdown",
   "id": "829b7005",
   "metadata": {},
   "source": [
    "LeanDojo Demo\n",
    "=============\n",
    "\n",
    "This notebook demonstrates the main features of LeanDojo (using Lean 4). Please refer to the [documentation](https://leandojo.readthedocs.io/en/latest/) for more details."
   ]
  },
  {
   "cell_type": "code",
   "execution_count": 2,
   "id": "f3c23856",
   "metadata": {},
   "outputs": [
    {
     "name": "stderr",
     "output_type": "stream",
     "text": [
      "/opt/anaconda3/envs/soulforge/lib/python3.9/site-packages/tqdm/auto.py:21: TqdmWarning: IProgress not found. Please update jupyter and ipywidgets. See https://ipywidgets.readthedocs.io/en/stable/user_install.html\n",
      "  from .autonotebook import tqdm as notebook_tqdm\n",
      "2025-01-29 14:26:09,942\tINFO util.py:154 -- Missing packages: ['ipywidgets']. Run `pip install -U ipywidgets`, then restart the notebook server for rich notebook output.\n"
     ]
    }
   ],
   "source": [
    "from lean_dojo import *"
   ]
  },
  {
   "cell_type": "markdown",
   "id": "7d400df8",
   "metadata": {},
   "source": [
    "## Extract Data from Lean"
   ]
  },
  {
   "cell_type": "code",
   "execution_count": 3,
   "id": "ef2ab5b2",
   "metadata": {},
   "outputs": [
    {
     "data": {
      "text/plain": [
       "LeanGitRepo(url='https://github.com/ZongjingLi/Soulforge', commit='ea39754d864ba4ab8abfc25d49a394f3d6d35ae8')"
      ]
     },
     "execution_count": 3,
     "metadata": {},
     "output_type": "execute_result"
    }
   ],
   "source": [
    "#repo = LeanGitRepo(\n",
    "#    \"https://github.com/leanprover-community/mathlib4\",\n",
    "#    \"29dcec074de168ac2bf835a77ef68bbe069194c5\",\n",
    "#)\n",
    "#repo = LeanGitRepo(\"https://github.com/yangky11/lean4-example\", \"7b6ecb9ad4829e4e73600a3329baeb3b5df8d23f\")\n",
    "repo = LeanGitRepo(\"https://github.com/ZongjingLi/Soulforge\",\"ea39754d864ba4ab8abfc25d49a394f3d6d35ae8\",)\n",
    "\n",
    "\n",
    "repo"
   ]
  },
  {
   "cell_type": "code",
   "execution_count": 3,
   "id": "dd959495",
   "metadata": {},
   "outputs": [],
   "source": [
    "# Expected behavior: this line should open another tab and take you to the website of the repo to be traced.\n",
    "#repo.show()"
   ]
  },
  {
   "cell_type": "code",
   "execution_count": 4,
   "id": "4c2945c2",
   "metadata": {},
   "outputs": [
    {
     "data": {
      "text/plain": [
       "{'content': 'leanprover/lean4:v4.11.0'}"
      ]
     },
     "execution_count": 4,
     "metadata": {},
     "output_type": "execute_result"
    }
   ],
   "source": [
    "repo.get_config(\"lean-toolchain\")"
   ]
  },
  {
   "cell_type": "code",
   "execution_count": 5,
   "id": "1a9c39cc",
   "metadata": {},
   "outputs": [
    {
     "name": "stderr",
     "output_type": "stream",
     "text": [
      "\u001b[32m2025-01-29 14:26:13.685\u001b[0m | \u001b[1mINFO    \u001b[0m | \u001b[36mlean_dojo.data_extraction.trace\u001b[0m:\u001b[36mget_traced_repo_path\u001b[0m:\u001b[36m210\u001b[0m - \u001b[1mTracing LeanGitRepo(url='https://github.com/ZongjingLi/Soulforge', commit='ea39754d864ba4ab8abfc25d49a394f3d6d35ae8')\u001b[0m\n"
     ]
    },
    {
     "name": "stdout",
     "output_type": "stream",
     "text": [
      "✔ [2/8] Built Soulforge.Basic\n",
      "✔ [3/8] Built Soulforge\n",
      "ℹ [4/8] Built Main\n",
      "info: ././././Main.lean:12:0: \"Finished Building Malkyriss\"\n",
      "✔ [5/8] Built Main:c.o\n",
      "✔ [6/8] Built Soulforge.Basic:c.o\n",
      "✔ [7/8] Built Soulforge:c.o\n",
      "✔ [8/8] Built soulforge\n",
      "Build completed successfully.\n"
     ]
    },
    {
     "name": "stderr",
     "output_type": "stream",
     "text": [
      " 96%|█████████▌| 944/988 [03:55<00:09,  4.54it/s]"
     ]
    },
    {
     "name": "stdout",
     "output_type": "stream",
     "text": [
      "✔ [2/3] Built Lean4Repl\n",
      "Build completed successfully.\n"
     ]
    },
    {
     "name": "stderr",
     "output_type": "stream",
     "text": [
      "2025-01-29 14:30:24,101\tINFO worker.py:1832 -- Started a local Ray instance. View the dashboard at \u001b[1m\u001b[32m127.0.0.1:8265 \u001b[39m\u001b[22m\n",
      "100%|██████████| 988/988 [00:25<00:00, 39.44it/s] \n",
      "2025-01-29 14:30:54,180\tINFO worker.py:1832 -- Started a local Ray instance. View the dashboard at \u001b[1m\u001b[32m127.0.0.1:8265 \u001b[39m\u001b[22m\n",
      "100%|██████████| 988/988 [00:06<00:00, 158.55it/s]\n",
      "\u001b[32m2025-01-29 14:31:05.480\u001b[0m | \u001b[1mINFO    \u001b[0m | \u001b[36mlean_dojo.data_extraction.trace\u001b[0m:\u001b[36mtrace\u001b[0m:\u001b[36m248\u001b[0m - \u001b[1mLoading the traced repo from /Users/sunyiqi/.cache/lean_dojo/ZongjingLi-Soulforge-ea39754d864ba4ab8abfc25d49a394f3d6d35ae8/Soulforge\u001b[0m\n",
      "2025-01-29 14:31:06,286\tINFO worker.py:1832 -- Started a local Ray instance. View the dashboard at \u001b[1m\u001b[32m127.0.0.1:8265 \u001b[39m\u001b[22m\n",
      "100%|██████████| 988/988 [00:38<00:00, 25.72it/s] \n"
     ]
    }
   ],
   "source": [
    "# A few minutes if the traced repo is in the cache; many hours otherwise.\n",
    "traced_repo = trace(repo)"
   ]
  },
  {
   "cell_type": "code",
   "execution_count": 6,
   "id": "e00dd9d0",
   "metadata": {},
   "outputs": [
    {
     "name": "stdout",
     "output_type": "stream",
     "text": [
      "TacticState(pp='a b c : Nat\\n⊢ a + b + c = a + c + b', id=0, message=None)\n",
      "ProofFinished(tactic_state_id=1, message='')\n"
     ]
    }
   ],
   "source": [
    "theorem = Theorem(repo, \"Main.lean\", \"hello_world\")\n",
    "\n",
    "with Dojo(theorem) as (dojo, init_state):\n",
    "  print(init_state)\n",
    "  result = dojo.run_tac(init_state, \"rw [add_assoc, add_comm b, ←add_assoc]\")\n",
    "  assert isinstance(result, ProofFinished)\n",
    "  print(result)"
   ]
  },
  {
   "cell_type": "code",
   "execution_count": 7,
   "id": "25ccf173",
   "metadata": {},
   "outputs": [
    {
     "name": "stdout",
     "output_type": "stream",
     "text": [
      "988\n"
     ]
    }
   ],
   "source": [
    "traced_repo.traced_files_graph\n",
    "\n",
    "print(len(traced_repo.traced_files_graph))\n"
   ]
  },
  {
   "cell_type": "code",
   "execution_count": 8,
   "id": "375023d4",
   "metadata": {},
   "outputs": [
    {
     "name": "stdout",
     "output_type": "stream",
     "text": [
      "/Users/sunyiqi/.cache/lean_dojo/ZongjingLi-Soulforge-ea39754d864ba4ab8abfc25d49a394f3d6d35ae8/Soulforge\n",
      "14\n",
      "name: if_true\n",
      "@[simp] theorem if_true {_ : Decidable True} (t e : α) : ite True t e = t\n",
      "start,end,kind: [24, 1] [24, 92] commanddeclaration\n",
      "\n",
      "\n",
      "name: if_false\n",
      "@[simp] theorem if_false {_ : Decidable False} (t e : α) : ite False t e = e\n",
      "start,end,kind: [26, 1] [26, 90] commanddeclaration\n",
      "\n",
      "\n",
      "name: ite_id\n",
      "theorem ite_id [Decidable c] {α} (t : α) : (if c then t else t) = t\n",
      "start,end,kind: [28, 1] [28, 88] commanddeclaration\n",
      "\n",
      "\n",
      "name: apply_dite\n",
      "theorem apply_dite (f : α → β) (P : Prop) [Decidable P] (x : P → α) (y : ¬P → α) :\n",
      "    f (dite P x y) = dite P (fun h => f (x h)) (fun h => f (y h))\n",
      "start,end,kind: [30, 1] [33, 30] commanddeclaration\n",
      "\n",
      "\n",
      "name: apply_ite\n",
      "theorem apply_ite (f : α → β) (P : Prop) [Decidable P] (x y : α) :\n",
      "    f (ite P x y) = ite P (f x) (f y)\n",
      "start,end,kind: [35, 1] [38, 43] commanddeclaration\n",
      "\n",
      "\n",
      "name: dite_eq_left_iff\n",
      "@[simp] theorem dite_eq_left_iff {P : Prop} [Decidable P] {B : ¬ P → α} :\n",
      "    dite P (fun _ => a) B = a ↔ ∀ h, B h = a\n",
      "start,end,kind: [40, 1] [42, 69] commanddeclaration\n",
      "\n",
      "\n",
      "name: dite_eq_right_iff\n",
      "@[simp] theorem dite_eq_right_iff {P : Prop} [Decidable P] {A : P → α} :\n",
      "    (dite P A fun _ => b) = b ↔ ∀ h, A h = b\n",
      "start,end,kind: [44, 1] [46, 69] commanddeclaration\n",
      "\n",
      "\n",
      "name: ite_eq_left_iff\n",
      "@[simp] theorem ite_eq_left_iff {P : Prop} [Decidable P] : ite P a b = a ↔ ¬P → b = a\n",
      "start,end,kind: [48, 1] [49, 19] commanddeclaration\n",
      "\n",
      "\n",
      "name: ite_eq_right_iff\n",
      "@[simp] theorem ite_eq_right_iff {P : Prop} [Decidable P] : ite P a b = b ↔ P → a = b\n",
      "start,end,kind: [51, 1] [52, 20] commanddeclaration\n",
      "\n",
      "\n",
      "name: dite_eq_ite\n",
      "@[simp] theorem dite_eq_ite [Decidable P] : (dite P (fun _ => a) fun _ => b) = ite P a b\n",
      "start,end,kind: [54, 1] [55, 96] commanddeclaration\n",
      "\n",
      "\n",
      "name: ite_some_none_eq_none\n",
      "theorem ite_some_none_eq_none [Decidable P] :\n",
      "    (if P then some x else none) = none ↔ ¬ P\n",
      "start,end,kind: [58, 1] [61, 6] commanddeclaration\n",
      "\n",
      "\n",
      "name: ite_some_none_eq_some\n",
      "@[simp] theorem ite_some_none_eq_some [Decidable P] :\n",
      "    (if P then some x else none) = some y ↔ P ∧ x = y\n",
      "start,end,kind: [63, 1] [65, 21] commanddeclaration\n",
      "\n",
      "\n",
      "name: dite_some_none_eq_none\n",
      "theorem dite_some_none_eq_none [Decidable P] {x : P → α} :\n",
      "    (if h : P then some (x h) else none) = none ↔ ¬P\n",
      "start,end,kind: [68, 1] [70, 7] commanddeclaration\n",
      "\n",
      "\n",
      "name: dite_some_none_eq_some\n",
      "@[simp] theorem dite_some_none_eq_some [Decidable P] {x : P → α} {y : α} :\n",
      "    (if h : P then some (x h) else none) = some y ↔ ∃ h : P, x h = y\n",
      "start,end,kind: [72, 1] [74, 30] commanddeclaration\n",
      "\n",
      "\n"
     ]
    }
   ],
   "source": [
    "len(traced_repo.traced_files)\n",
    "\n",
    "print(traced_repo.traced_files[0].root_dir)\n",
    "\n",
    "primses = traced_repo.traced_files[9].get_premise_definitions()\n",
    "print(len(primses))\n",
    "\n",
    "for item in primses:\n",
    "    print(\"name:\",item[\"full_name\"])\n",
    "    print(item[\"code\"])\n",
    "    print(\"start,end,kind:\",item[\"start\"], item[\"end\"],item[\"kind\"])\n",
    "    print(\"\\n\")\n"
   ]
  },
  {
   "cell_type": "code",
   "execution_count": 31,
   "id": "1c725a11",
   "metadata": {},
   "outputs": [
    {
     "data": {
      "text/plain": [
       "TracedFile(root_dir=PosixPath('/Users/sunyiqi/.cache/lean_dojo/ZongjingLi-Soulforge-ea39754d864ba4ab8abfc25d49a394f3d6d35ae8/Soulforge'), repo=LeanGitRepo(url='/Users/sunyiqi/.cache/lean_dojo/ZongjingLi-Soulforge-ea39754d864ba4ab8abfc25d49a394f3d6d35ae8/Soulforge', commit='ea39754d864ba4ab8abfc25d49a394f3d6d35ae8'), lean_file=LeanFile(path=PosixPath('Main.lean')))"
      ]
     },
     "execution_count": 31,
     "metadata": {},
     "output_type": "execute_result"
    }
   ],
   "source": [
    "traced_file = traced_repo.get_traced_file(\"Main.lean\")\n",
    "\n",
    "traced_file"
   ]
  },
  {
   "cell_type": "code",
   "execution_count": 32,
   "id": "153f37ce",
   "metadata": {},
   "outputs": [
    {
     "data": {
      "text/plain": [
       "[{'full_name': 'hello_world',\n",
       "  'code': 'theorem hello_world (a b c : Nat)\\n  : a + b + c = a + c + b',\n",
       "  'start': [5, 1],\n",
       "  'end': [7, 41],\n",
       "  'kind': 'commanddeclaration'},\n",
       " {'full_name': 'foo',\n",
       "  'code': 'theorem foo (a : Nat) : a + 1 = Nat.succ a',\n",
       "  'start': [9, 1],\n",
       "  'end': [9, 53],\n",
       "  'kind': 'commanddeclaration'},\n",
       " {'full_name': 'ring_is_module',\n",
       "  'code': 'theorem ring_is_module (R : Ring carrier) (a b : carrier) :\\n  R.op a (R.op b a) = R.op b (R.op a a)',\n",
       "  'start': [28, 1],\n",
       "  'end': [34, 6],\n",
       "  'kind': 'commanddeclaration'}]"
      ]
     },
     "execution_count": 32,
     "metadata": {},
     "output_type": "execute_result"
    }
   ],
   "source": [
    "traced_file.get_premise_definitions()"
   ]
  },
  {
   "cell_type": "code",
   "execution_count": 33,
   "id": "77e58935",
   "metadata": {},
   "outputs": [
    {
     "data": {
      "text/plain": [
       "3"
      ]
     },
     "execution_count": 33,
     "metadata": {},
     "output_type": "execute_result"
    }
   ],
   "source": [
    "traced_theorems = traced_file.get_traced_theorems()\n",
    "\n",
    "len(traced_theorems)"
   ]
  },
  {
   "cell_type": "code",
   "execution_count": 34,
   "id": "00042165",
   "metadata": {},
   "outputs": [
    {
     "data": {
      "text/plain": [
       "TracedTheorem(theorem=Theorem(repo=LeanGitRepo(url='/Users/sunyiqi/.cache/lean_dojo/ZongjingLi-Soulforge-ea39754d864ba4ab8abfc25d49a394f3d6d35ae8/Soulforge', commit='ea39754d864ba4ab8abfc25d49a394f3d6d35ae8'), file_path=PosixPath('Main.lean'), full_name='ring_is_module'))"
      ]
     },
     "execution_count": 34,
     "metadata": {},
     "output_type": "execute_result"
    }
   ],
   "source": [
    "thm = traced_file.get_traced_theorem(\"ring_is_module\")\n",
    "\n",
    "thm"
   ]
  },
  {
   "cell_type": "code",
   "execution_count": 35,
   "id": "4d9ed905",
   "metadata": {},
   "outputs": [],
   "source": [
    "# Expected behavior: this line should open another tab and take you to the website of the traced theorem.\n",
    "thm.show()"
   ]
  },
  {
   "cell_type": "code",
   "execution_count": 36,
   "id": "eafb6369",
   "metadata": {},
   "outputs": [
    {
     "name": "stdout",
     "output_type": "stream",
     "text": [
      "Theorem(repo=LeanGitRepo(url='/Users/sunyiqi/.cache/lean_dojo/ZongjingLi-Soulforge-ea39754d864ba4ab8abfc25d49a394f3d6d35ae8/Soulforge', commit='ea39754d864ba4ab8abfc25d49a394f3d6d35ae8'), file_path=PosixPath('Main.lean'), full_name='ring_is_module')\n"
     ]
    }
   ],
   "source": [
    "thm.theorem\n",
    "print(thm.theorem)"
   ]
  },
  {
   "cell_type": "code",
   "execution_count": 37,
   "id": "5e00cba9",
   "metadata": {},
   "outputs": [
    {
     "data": {
      "text/plain": [
       "((28, 1), (34, 6))"
      ]
     },
     "execution_count": 37,
     "metadata": {},
     "output_type": "execute_result"
    }
   ],
   "source": [
    "thm.start, thm.end"
   ]
  },
  {
   "cell_type": "code",
   "execution_count": 38,
   "id": "14c611f4",
   "metadata": {},
   "outputs": [
    {
     "data": {
      "text/plain": [
       "True"
      ]
     },
     "execution_count": 38,
     "metadata": {},
     "output_type": "execute_result"
    }
   ],
   "source": [
    "thm.has_tactic_proof()"
   ]
  },
  {
   "cell_type": "code",
   "execution_count": 39,
   "id": "24bc67e9",
   "metadata": {},
   "outputs": [
    {
     "data": {
      "text/plain": [
       "1"
      ]
     },
     "execution_count": 39,
     "metadata": {},
     "output_type": "execute_result"
    }
   ],
   "source": [
    "thm.get_num_tactics()"
   ]
  },
  {
   "cell_type": "code",
   "execution_count": 40,
   "id": "3fa19ef3",
   "metadata": {},
   "outputs": [
    {
     "name": "stdout",
     "output_type": "stream",
     "text": [
      "by\n",
      "    rw [\n",
      "      R.op_commute a,\n",
      "      R.assoc\n",
      "    ]\n"
     ]
    }
   ],
   "source": [
    "proof_node = thm.get_proof_node()\n",
    "proof = proof_node.lean_file[proof_node.start : proof_node.end]\n",
    "print(proof)"
   ]
  },
  {
   "cell_type": "code",
   "execution_count": 41,
   "id": "1fae1876",
   "metadata": {},
   "outputs": [
    {
     "data": {
      "text/plain": [
       "[TracedTactic(tactic=rw [\n",
       "   R.op_commute a,\n",
       "   R.assoc\n",
       " ], state_before=carrier : Type\n",
       " R : Ring carrier\n",
       " a b : carrier\n",
       " ⊢ R.op a (R.op b a) = R.op b (R.op a a), state_after=no goals)]"
      ]
     },
     "execution_count": 41,
     "metadata": {},
     "output_type": "execute_result"
    }
   ],
   "source": [
    "traced_tactics = thm.get_traced_tactics()\n",
    "\n",
    "traced_tactics"
   ]
  },
  {
   "cell_type": "code",
   "execution_count": 42,
   "id": "39fbe993",
   "metadata": {},
   "outputs": [
    {
     "data": {
      "text/plain": [
       "TracedTactic(tactic=rw [\n",
       "  R.op_commute a,\n",
       "  R.assoc\n",
       "], state_before=carrier : Type\n",
       "R : Ring carrier\n",
       "a b : carrier\n",
       "⊢ R.op a (R.op b a) = R.op b (R.op a a), state_after=no goals)"
      ]
     },
     "execution_count": 42,
     "metadata": {},
     "output_type": "execute_result"
    }
   ],
   "source": [
    "tac = traced_tactics[0]\n",
    "\n",
    "tac"
   ]
  },
  {
   "cell_type": "markdown",
   "id": "84b1c8b6",
   "metadata": {},
   "source": [
    "## Interact with Lean Programmatically"
   ]
  },
  {
   "cell_type": "code",
   "execution_count": 43,
   "id": "f3d3f736",
   "metadata": {},
   "outputs": [
    {
     "data": {
      "text/plain": [
       "LeanGitRepo(url='https://github.com/ZongjingLi/Soulforge', commit='ea39754d864ba4ab8abfc25d49a394f3d6d35ae8')"
      ]
     },
     "execution_count": 43,
     "metadata": {},
     "output_type": "execute_result"
    }
   ],
   "source": [
    "repo"
   ]
  },
  {
   "cell_type": "markdown",
   "id": "fb39a5a0",
   "metadata": {},
   "source": [
    "### Interact through Tactics"
   ]
  },
  {
   "cell_type": "code",
   "execution_count": 9,
   "id": "10364e0f",
   "metadata": {},
   "outputs": [],
   "source": [
    "theorem = Theorem(repo, \"Main.lean\", \"ring_is_module\")\n",
    "\n",
    "# For some theorems, it might take a few minutes.\n",
    "dojo, state_0 = Dojo(theorem).__enter__()\n"
   ]
  },
  {
   "cell_type": "code",
   "execution_count": 10,
   "id": "a7d4ad9a",
   "metadata": {},
   "outputs": [
    {
     "data": {
      "text/plain": [
       "TacticState(pp='carrier : Type\\nR : Ring carrier\\na b : carrier\\n⊢ R.op a (R.op b a) = R.op b (R.op a a)', id=0, message=None)"
      ]
     },
     "execution_count": 10,
     "metadata": {},
     "output_type": "execute_result"
    }
   ],
   "source": [
    "state_0"
   ]
  },
  {
   "cell_type": "code",
   "execution_count": 11,
   "id": "af88893b",
   "metadata": {},
   "outputs": [
    {
     "name": "stdout",
     "output_type": "stream",
     "text": [
      "carrier : Type\n",
      "R : Ring carrier\n",
      "a b : carrier\n",
      "⊢ R.op a (R.op b a) = R.op b (R.op a a)\n"
     ]
    }
   ],
   "source": [
    "print(state_0.pp)"
   ]
  },
  {
   "cell_type": "code",
   "execution_count": 26,
   "id": "770785f7",
   "metadata": {},
   "outputs": [
    {
     "name": "stdout",
     "output_type": "stream",
     "text": [
      "carrier : Type\n",
      "R : Ring carrier\n",
      "a b : carrier\n",
      "⊢ R.op a (R.op b a) = R.op b (R.op a a)\n"
     ]
    }
   ],
   "source": [
    "print(state_0.pp)\n",
    "#print(state_0.pp.split(\"⊢\")[0])"
   ]
  },
  {
   "cell_type": "code",
   "execution_count": 18,
   "id": "4ca2dca9",
   "metadata": {},
   "outputs": [
    {
     "name": "stdout",
     "output_type": "stream",
     "text": [
      "carrier : Type\n",
      "R : Ring carrier\n",
      "a b : carrier\n",
      "⊢ R.op (R.op b a) a = R.op b (R.op a a)\n"
     ]
    }
   ],
   "source": [
    "state_1 = dojo.run_tac(state_0, \"rw [R.op_commute a]\")\n",
    "\n",
    "print(state_1.pp)"
   ]
  },
  {
   "cell_type": "code",
   "execution_count": 22,
   "id": "499f23db",
   "metadata": {},
   "outputs": [
    {
     "name": "stdout",
     "output_type": "stream",
     "text": [
      "Done: ProofFinished(tactic_state_id=8, message='')\n"
     ]
    }
   ],
   "source": [
    "state_2 = dojo.run_tac(state_1, \"rw [R.assoc]\")\n",
    "if isinstance(state_2, ProofFinished):\n",
    "    print(\"Done:\",state_2)\n",
    "else:\n",
    "    print(state_2.pp)"
   ]
  },
  {
   "cell_type": "code",
   "execution_count": 116,
   "id": "53bc5acd",
   "metadata": {},
   "outputs": [
    {
     "name": "stdout",
     "output_type": "stream",
     "text": [
      "ProofFinished(tactic_state_id=3, message='')\n"
     ]
    }
   ],
   "source": [
    "state_3 = dojo.run_tac(state_2, \"rw [←add_assoc]\")\n",
    "\n",
    "print(state_3)"
   ]
  },
  {
   "cell_type": "code",
   "execution_count": 107,
   "id": "89a62c89",
   "metadata": {},
   "outputs": [
    {
     "data": {
      "text/plain": [
       "LeanError(error='<stdin>:1:1: unknown tactic')"
      ]
     },
     "execution_count": 107,
     "metadata": {},
     "output_type": "execute_result"
    }
   ],
   "source": [
    "state_2 = dojo.run_tac(state_0, \"hello world!\")\n",
    "\n",
    "state_2"
   ]
  },
  {
   "cell_type": "code",
   "execution_count": 74,
   "id": "10b5f013",
   "metadata": {},
   "outputs": [
    {
     "ename": "RuntimeError",
     "evalue": "Attempting to run a tactic on an invalid state LeanError(error='<stdin>:1:1: unknown tactic').",
     "output_type": "error",
     "traceback": [
      "\u001b[0;31m---------------------------------------------------------------------------\u001b[0m",
      "\u001b[0;31mRuntimeError\u001b[0m                              Traceback (most recent call last)",
      "Cell \u001b[0;32mIn[74], line 1\u001b[0m\n\u001b[0;32m----> 1\u001b[0m \u001b[43mdojo\u001b[49m\u001b[38;5;241;43m.\u001b[39;49m\u001b[43mrun_tac\u001b[49m\u001b[43m(\u001b[49m\u001b[43mstate_2\u001b[49m\u001b[43m,\u001b[49m\u001b[43m \u001b[49m\u001b[38;5;124;43m\"\u001b[39;49m\u001b[38;5;124;43mskip\u001b[39;49m\u001b[38;5;124;43m\"\u001b[39;49m\u001b[43m)\u001b[49m\n",
      "File \u001b[0;32m/opt/anaconda3/envs/soulforge/lib/python3.9/site-packages/lean_dojo/interaction/dojo.py:319\u001b[0m, in \u001b[0;36mDojo.run_tac\u001b[0;34m(self, state, tactic)\u001b[0m\n\u001b[1;32m    317\u001b[0m \u001b[38;5;28;01mdef\u001b[39;00m\u001b[38;5;250m \u001b[39m\u001b[38;5;21mrun_tac\u001b[39m(\u001b[38;5;28mself\u001b[39m, state: TacticState, tactic: \u001b[38;5;28mstr\u001b[39m) \u001b[38;5;241m-\u001b[39m\u001b[38;5;241m>\u001b[39m TacticResult:\n\u001b[1;32m    318\u001b[0m     \u001b[38;5;28;01mif\u001b[39;00m \u001b[38;5;129;01mnot\u001b[39;00m \u001b[38;5;28misinstance\u001b[39m(state, TacticState):\n\u001b[0;32m--> 319\u001b[0m         \u001b[38;5;28;01mraise\u001b[39;00m \u001b[38;5;167;01mRuntimeError\u001b[39;00m(\n\u001b[1;32m    320\u001b[0m             \u001b[38;5;124mf\u001b[39m\u001b[38;5;124m\"\u001b[39m\u001b[38;5;124mAttempting to run a tactic on an invalid state \u001b[39m\u001b[38;5;132;01m{\u001b[39;00mstate\u001b[38;5;132;01m}\u001b[39;00m\u001b[38;5;124m.\u001b[39m\u001b[38;5;124m\"\u001b[39m\n\u001b[1;32m    321\u001b[0m         )\n\u001b[1;32m    322\u001b[0m     \u001b[38;5;28;01massert\u001b[39;00m \u001b[38;5;28misinstance\u001b[39m(tactic, \u001b[38;5;28mstr\u001b[39m), \u001b[38;5;124mf\u001b[39m\u001b[38;5;124m\"\u001b[39m\u001b[38;5;124mInvalid tactic \u001b[39m\u001b[38;5;132;01m{\u001b[39;00mtactic\u001b[38;5;132;01m}\u001b[39;00m\u001b[38;5;124m\"\u001b[39m\n\u001b[1;32m    324\u001b[0m     tsid \u001b[38;5;241m=\u001b[39m state\u001b[38;5;241m.\u001b[39mid\n",
      "\u001b[0;31mRuntimeError\u001b[0m: Attempting to run a tactic on an invalid state LeanError(error='<stdin>:1:1: unknown tactic')."
     ]
    }
   ],
   "source": [
    "dojo.run_tac(state_2, \"skip\")"
   ]
  },
  {
   "cell_type": "code",
   "execution_count": 43,
   "id": "65bae6ea",
   "metadata": {},
   "outputs": [
    {
     "data": {
      "text/plain": [
       "ProofGivenUp()"
      ]
     },
     "execution_count": 43,
     "metadata": {},
     "output_type": "execute_result"
    }
   ],
   "source": [
    "dojo.run_tac(state_0, \"sorry\")"
   ]
  },
  {
   "cell_type": "code",
   "execution_count": 58,
   "id": "c373865a",
   "metadata": {},
   "outputs": [
    {
     "name": "stdout",
     "output_type": "stream",
     "text": [
      "ι : Type u_1\n",
      "inst✝² : Fintype ι\n",
      "inst✝¹ : DecidableEq ι\n",
      "R : Type u_2\n",
      "inst✝ : Semiring R\n",
      "x : ι → R\n",
      "⊢ x = ∑ i : ι, x i • fun j => if i = j then 1 else 0\n"
     ]
    }
   ],
   "source": [
    "print(state_0.pp)"
   ]
  },
  {
   "cell_type": "code",
   "execution_count": 59,
   "id": "a5d0156f",
   "metadata": {},
   "outputs": [
    {
     "name": "stdout",
     "output_type": "stream",
     "text": [
      "case h\n",
      "ι : Type u_1\n",
      "inst✝² : Fintype ι\n",
      "inst✝¹ : DecidableEq ι\n",
      "R : Type u_2\n",
      "inst✝ : Semiring R\n",
      "x : ι → R\n",
      "x✝ : ι\n",
      "⊢ x x✝ = (∑ i : ι, x i • fun j => if i = j then 1 else 0) x✝\n"
     ]
    }
   ],
   "source": [
    "state_3 = dojo.run_tac(state_0, \"ext\")\n",
    "\n",
    "print(state_3.pp)"
   ]
  },
  {
   "cell_type": "code",
   "execution_count": 60,
   "id": "71ab5854",
   "metadata": {},
   "outputs": [
    {
     "name": "stdout",
     "output_type": "stream",
     "text": [
      "ProofFinished(tactic_state_id=3, message='')\n"
     ]
    }
   ],
   "source": [
    "state_4 = dojo.run_tac(state_3, \"simp\")\n",
    "\n",
    "print(state_4)"
   ]
  },
  {
   "cell_type": "code",
   "execution_count": 61,
   "id": "fdb44496",
   "metadata": {},
   "outputs": [
    {
     "data": {
      "text/plain": [
       "True"
      ]
     },
     "execution_count": 61,
     "metadata": {},
     "output_type": "execute_result"
    }
   ],
   "source": [
    "dojo.is_successful"
   ]
  },
  {
   "cell_type": "markdown",
   "id": "0ca87e34",
   "metadata": {},
   "source": [
    "### Interact through Commands"
   ]
  },
  {
   "cell_type": "code",
   "execution_count": 121,
   "id": "243ea43c",
   "metadata": {},
   "outputs": [
    {
     "name": "stdout",
     "output_type": "stream",
     "text": [
      "CommandState(id=1, message='5')\n"
     ]
    }
   ],
   "source": [
    "entry = (repo, \"Main.lean\", 1)  # (repo, file_path, line_nb)\n",
    "#entry =  Theorem(repo, \"Main.lean\", \"hello_world\")\n",
    "dojo, state_0 = Dojo(entry).__enter__()\n",
    "print(dojo.run_cmd(state_0, \"#eval 5\"))"
   ]
  },
  {
   "cell_type": "code",
   "execution_count": 84,
   "id": "5ebd615c",
   "metadata": {},
   "outputs": [
    {
     "data": {
      "text/plain": [
       "CommandState(id=0, message=None)"
      ]
     },
     "execution_count": 84,
     "metadata": {},
     "output_type": "execute_result"
    }
   ],
   "source": [
    "state_0"
   ]
  },
  {
   "cell_type": "code",
   "execution_count": 85,
   "id": "b1e079fa",
   "metadata": {},
   "outputs": [
    {
     "data": {
      "text/plain": [
       "CommandState(id=1, message='1')"
      ]
     },
     "execution_count": 85,
     "metadata": {},
     "output_type": "execute_result"
    }
   ],
   "source": [
    "dojo.run_cmd(state_0, \"#eval 1\")"
   ]
  },
  {
   "cell_type": "code",
   "execution_count": 87,
   "id": "31c9bada",
   "metadata": {},
   "outputs": [
    {
     "data": {
      "text/plain": [
       "LeanError(error=\"unknown identifier 'x'\")"
      ]
     },
     "execution_count": 87,
     "metadata": {},
     "output_type": "execute_result"
    }
   ],
   "source": [
    "dojo.run_cmd(state_0, \"#eval x\")"
   ]
  },
  {
   "cell_type": "code",
   "execution_count": 88,
   "id": "b638bfbf",
   "metadata": {},
   "outputs": [
    {
     "data": {
      "text/plain": [
       "CommandState(id=4, message='')"
      ]
     },
     "execution_count": 88,
     "metadata": {},
     "output_type": "execute_result"
    }
   ],
   "source": [
    "state_1 = dojo.run_cmd(state_0, \"def x := 1\")\n",
    "\n",
    "state_1"
   ]
  },
  {
   "cell_type": "code",
   "execution_count": 91,
   "id": "bdc4f14d",
   "metadata": {},
   "outputs": [
    {
     "data": {
      "text/plain": [
       "CommandState(id=7, message='1')"
      ]
     },
     "execution_count": 91,
     "metadata": {},
     "output_type": "execute_result"
    }
   ],
   "source": [
    "dojo.run_cmd(state_1, \"#eval x\")"
   ]
  },
  {
   "cell_type": "code",
   "execution_count": 94,
   "id": "e65edba0",
   "metadata": {},
   "outputs": [
    {
     "data": {
      "text/plain": [
       "CommandState(id=10, message='5')"
      ]
     },
     "execution_count": 94,
     "metadata": {},
     "output_type": "execute_result"
    }
   ],
   "source": [
    "dojo.run_cmd(state_1, \"#eval 1 + 4\")"
   ]
  },
  {
   "cell_type": "code",
   "execution_count": 92,
   "id": "ef47afb8",
   "metadata": {},
   "outputs": [
    {
     "data": {
      "text/plain": [
       "LeanError(error=\"unknown identifier 'addMonoidHomLequivNat'\")"
      ]
     },
     "execution_count": 92,
     "metadata": {},
     "output_type": "execute_result"
    }
   ],
   "source": [
    "dojo.run_cmd(state_0, \"#check addMonoidHomLequivNat\")"
   ]
  },
  {
   "cell_type": "code",
   "execution_count": 93,
   "id": "c6b8b9a5",
   "metadata": {},
   "outputs": [
    {
     "data": {
      "text/plain": [
       "LeanError(error=\"unknown identifier 'addMonoidEndRingEquivInt'\")"
      ]
     },
     "execution_count": 93,
     "metadata": {},
     "output_type": "execute_result"
    }
   ],
   "source": [
    "dojo.run_cmd(state_0, \"#check addMonoidEndRingEquivInt\")"
   ]
  },
  {
   "cell_type": "code",
   "execution_count": null,
   "id": "791875ec",
   "metadata": {},
   "outputs": [],
   "source": []
  }
 ],
 "metadata": {
  "kernelspec": {
   "display_name": "soulforge",
   "language": "python",
   "name": "python3"
  },
  "language_info": {
   "codemirror_mode": {
    "name": "ipython",
    "version": 3
   },
   "file_extension": ".py",
   "mimetype": "text/x-python",
   "name": "python",
   "nbconvert_exporter": "python",
   "pygments_lexer": "ipython3",
   "version": "3.9.21"
  }
 },
 "nbformat": 4,
 "nbformat_minor": 5
}
